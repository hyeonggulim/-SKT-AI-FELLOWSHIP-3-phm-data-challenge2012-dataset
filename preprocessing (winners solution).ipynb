{
 "cells": [
  {
   "cell_type": "markdown",
   "metadata": {},
   "source": [
    "# Three methods that had great performance in competition \n",
    "##### Estimation of Remaining Useful Life of Ball Bearings using Data Driven Methodologies.pdf \n",
    "##### FROM https://github.com/wkzs111/phm-ieee-2012-data-challenge-dataset\n",
    "\n",
    "1. Method 1: Moving Average Spectral Kurtosis and Bayesian Monte Carlo\n",
    "\n",
    "2. Method 2: Soft Computing Model With Support Vector Regressor \n",
    "\n",
    "3. Method 3: Vibration Frequency Signature Anomaly Detection and Survial Time Ratio \n"
   ]
  },
  {
   "cell_type": "markdown",
   "metadata": {},
   "source": [
    "### IMPORT Libaray "
   ]
  },
  {
   "cell_type": "code",
   "execution_count": 1,
   "metadata": {},
   "outputs": [],
   "source": [
    "import pandas as pd\n",
    "from matplotlib import pyplot as plt\n",
    "import pywt\n",
    "import os\n",
    "import tqdm \n",
    "import pandas as pd\n",
    "import numpy as np\n",
    "from sklearn.linear_model import LinearRegression\n",
    "from sklearn.model_selection import train_test_split\n",
    "from sklearn.preprocessing import OneHotEncoder\n",
    "from sklearn.metrics import mean_squared_error, r2_score\n",
    "import seaborn as sns\n",
    "import lightgbm as lgb\n",
    "from sklearn.preprocessing import StandardScaler\n",
    "from sklearn.decomposition import PCA\n",
    "\n",
    "import matplotlib.pyplot as plt\n",
    "from numpy import arange, ones, pi\n",
    "from scipy import cos, sin\n",
    "from scipy.fftpack import fft, fftfreq, ifft"
   ]
  },
  {
   "cell_type": "markdown",
   "metadata": {},
   "source": [
    "### Method 1: Moving Average Spectral Kurtosis and Bayesian Monte Carlo"
   ]
  },
  {
   "cell_type": "markdown",
   "metadata": {},
   "source": [
    "### Method 3: Vibration Frequency Signature Anomaly Detection and Survial Time Ratio\n",
    "+ https://m.blog.naver.com/PostView.naver?isHttpsRedirect=true&blogId=gudrb1707&logNo=221276702029"
   ]
  },
  {
   "cell_type": "code",
   "execution_count": 3,
   "metadata": {},
   "outputs": [],
   "source": [
    "abspath = os.path.abspath(\"C:/Users/SIL/Desktop/sil/WORK/SKT AI FELLOWSHIP 3기/PHM 챌린지 데이터셋 조사/phm-ieee-2012-data-challenge-dataset-master/phm-ieee-2012-data-challenge-dataset-master/Raw Data\")"
   ]
  },
  {
   "cell_type": "code",
   "execution_count": 21,
   "metadata": {},
   "outputs": [],
   "source": [
    "# FFT\n",
    "def fourier(data):\n",
    "    y_hori = np.array(data['Horiz'])\n",
    "    y_verti = np.array(data['Vert'])\n",
    "\n",
    "    ## 4. FFT calculations\n",
    "\n",
    "    fft_vals = fft(y_hori)               # FFT 계산\n",
    "    fft_vals = abs(fft_vals)\n",
    "    n = 1/len(y_hori)\n",
    "    frequency = fftfreq(len(y_hori),n)\n",
    "    \n",
    "    fft_results = frequency[fft_vals > 20]\n",
    "    fft_results = fft_results[fft_results > 0] \n",
    "    \n",
    "    #plt.xlim(0,:,:)\n",
    "    #plt.ylim(0,100,100)\n",
    "    #plt.plot(frequency,fft_vals)\n",
    "    #plt.show()\n",
    "    return fft_results\n"
   ]
  },
  {
   "cell_type": "code",
   "execution_count": 22,
   "metadata": {},
   "outputs": [
    {
     "name": "stdout",
     "output_type": "stream",
     "text": [
      "2375\n"
     ]
    },
    {
     "name": "stderr",
     "output_type": "stream",
     "text": [
      "IOPub data rate exceeded.\n",
      "The notebook server will temporarily stop sending output\n",
      "to the client in order to avoid crashing it.\n",
      "To change this limit, set the config variable\n",
      "`--NotebookApp.iopub_data_rate_limit`.\n",
      "\n",
      "Current values:\n",
      "NotebookApp.iopub_data_rate_limit=1000000.0 (bytes/sec)\n",
      "NotebookApp.rate_limit_window=3.0 (secs)\n",
      "\n"
     ]
    }
   ],
   "source": [
    "\n",
    "def fix_file(df):\n",
    "    df = pd.Series(df[df.columns[0]])\n",
    "    #데이터 형식이 안맞는 경우 \n",
    "    fixed = pd.DataFrame()\n",
    "    fixed['H'] = df.str.split(';').str[0]\n",
    "    fixed['M'] = df.str.split(';').str[1]\n",
    "    fixed['S'] = df.str.split(';').str[2]\n",
    "    fixed['MS'] = df.str.split(';').str[3]\n",
    "    fixed['Horiz'] = df.str.split(';').str[4]\n",
    "    fixed['Vert'] = df.str.split(';').str[5]\n",
    "    return fixed\n",
    "\n",
    "\n",
    "def read_data(path):\n",
    "    file_list = os.listdir(path)\n",
    "    total_list = []\n",
    "    print(len(file_list))\n",
    "\n",
    "    for i in range(len(file_list)):\n",
    "        tem = pd.read_csv(path+'/'+file_list[i])\n",
    "        if len(tem.columns) == 6:\n",
    "            tem.columns = ['H','M','S','MS','Horiz','Vert']\n",
    "            #total_list.append(tem)\n",
    "            \n",
    "            #fourier\n",
    "            fft_results = fourier(tem)\n",
    "            total_list.append(fft_results)\n",
    "            \n",
    "            \n",
    "        if len(tem.columns) == 1:\n",
    "            tem2 = fix_file(tem)\n",
    "            tem2.columns = ['H','M','S','MS','Horiz','Vert']\n",
    "            #total_list.append(tem2)\n",
    "            \n",
    "            #fourier\n",
    "            fft_results = fourier(tem2)\n",
    "            total_list.append(fft_results)            \n",
    "            \n",
    "        else:\n",
    "            continue\n",
    "            #tem.columns = ['H','M','S','MS','Horiz','Vert']\n",
    "        #usecols =['hour','min','second','0.x','Horiz','Vert']\n",
    "        \n",
    "    #merged_data = pd.concat([i for i in total_list],axis = 0)\n",
    "    return total_list #total_list \n",
    "\n",
    "## Target PATH\n",
    "\n",
    "files = os.listdir(abspath)\n",
    "files\n",
    "\n",
    "# TEST/LEARNING\n",
    "for get_file in files:\n",
    "    path_dir = abspath+\"/\"+get_file\n",
    "    file2 = os.listdir(path_dir)\n",
    "    # Bearing file 접근\n",
    "    for file in file2[:1]:\n",
    "        path2 = path_dir+'/'+file\n",
    "        ans_fft = read_data(path2)\n",
    "        \n",
    "        #plt.scatter(range(len(ans_fft)),ans_fft,cmap='Greens',edgecolors='black',linewidth=2,s=100)\n",
    "        #plt.colorbar(label='frequency')\n",
    "        print(ans_fft)\n",
    "        #plt.show()\n",
    "        #tem.to_csv('/'+ get_file+'/'+file+\".csv\",index= False)    \n"
   ]
  },
  {
   "cell_type": "code",
   "execution_count": 115,
   "metadata": {},
   "outputs": [
    {
     "data": {
      "text/plain": [
       "['Full_Test_Set', 'Learning_set', 'Test_set']"
      ]
     },
     "execution_count": 115,
     "metadata": {},
     "output_type": "execute_result"
    }
   ],
   "source": [
    "files"
   ]
  },
  {
   "cell_type": "code",
   "execution_count": null,
   "metadata": {},
   "outputs": [],
   "source": []
  }
 ],
 "metadata": {
  "kernelspec": {
   "display_name": "Python 3",
   "language": "python",
   "name": "python3"
  },
  "language_info": {
   "codemirror_mode": {
    "name": "ipython",
    "version": 3
   },
   "file_extension": ".py",
   "mimetype": "text/x-python",
   "name": "python",
   "nbconvert_exporter": "python",
   "pygments_lexer": "ipython3",
   "version": "3.8.5"
  }
 },
 "nbformat": 4,
 "nbformat_minor": 4
}
