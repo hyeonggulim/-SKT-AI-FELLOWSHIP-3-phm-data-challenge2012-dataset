{
 "cells": [
  {
   "cell_type": "code",
   "execution_count": 1,
   "metadata": {},
   "outputs": [],
   "source": [
    "import pandas as pd\n",
    "from matplotlib import pyplot as plt\n",
    "import pywt\n",
    "import os\n",
    "import tqdm \n",
    "import pandas as pd\n",
    "import numpy as np\n",
    "from sklearn.linear_model import LinearRegression\n",
    "from sklearn.model_selection import train_test_split\n",
    "from sklearn.preprocessing import OneHotEncoder\n",
    "from sklearn.metrics import mean_squared_error, r2_score\n",
    "import seaborn as sns\n",
    "import lightgbm as lgb\n",
    "from sklearn.preprocessing import StandardScaler\n",
    "from sklearn.decomposition import PCA\n",
    "\n",
    "import matplotlib.pyplot as plt\n",
    "from numpy import arange, ones, pi\n",
    "from scipy import cos, sin\n",
    "from scipy.fftpack import fft, fftfreq, ifft\n",
    "from scipy.stats import skew\n",
    "import pywt\n",
    "from scipy.stats import kurtosis\n",
    "#cA = pywt.swt([1, 2, 3, 4, 5, 6], 'db1')"
   ]
  },
  {
   "cell_type": "code",
   "execution_count": 2,
   "metadata": {},
   "outputs": [],
   "source": [
    "abspath = os.path.abspath(\"C:/Users/SIL/Desktop/sil/WORK/SKT AI FELLOWSHIP 3기/PHM 챌린지 데이터셋 조사/phm-ieee-2012-data-challenge-dataset-master/phm-ieee-2012-data-challenge-dataset-master/Raw Data\")"
   ]
  },
  {
   "cell_type": "code",
   "execution_count": 3,
   "metadata": {},
   "outputs": [],
   "source": [
    "# TOP FIVE POINTS\n",
    "def five_points(data):\n",
    "    y_hori = np.array(data['Horiz']).astype(float)\n",
    "    y_verti = np.array(data['Verti']).astype(float)\n",
    "    \n",
    "    # Top five points mean\n",
    "    hori = np.sort(y_hori, axis=0)[::-1][:5].mean()\n",
    "    verti = np.sort(y_verti, axis=0)[::-1][:5].mean()\n",
    "\n",
    "    return hori,verti"
   ]
  },
  {
   "cell_type": "code",
   "execution_count": 30,
   "metadata": {},
   "outputs": [],
   "source": [
    "def dwt(data):\n",
    "    eli_len = len(data) % 64\n",
    "    data = data.iloc[:-eli_len]\n",
    "        \n",
    "    y_hori = data['Horiz'] \n",
    "    y_verti = data['Vert'] \n",
    "            \n",
    "    h_coff = pywt.swt(list(y_hori), 'db4',level=5,axis=0)\n",
    "    v_coff = pywt.swt(list(y_verti), 'db4',level=5,axis = 0)\n",
    "    \n",
    "    \n",
    "    # concat wavelet coff\n",
    "    h_data = pd.concat([pd.DataFrame(i).T for i in h_coff],axis =1)\n",
    "    v_data = pd.concat([pd.DataFrame(i).T for i in v_coff],axis =1)\n",
    "    \n",
    "    # set col name\n",
    "    col_name_h = ['h_cA5','h_cD5','h_cA4','h_cD4','h_cA3','h_cD3','h_cA2','h_cD2','h_cA1','h_cD1']\n",
    "    col_name_v = ['v_cA5','v_cD5','v_cA4','v_cD4','v_cA3','v_cD3','v_cA2','v_cD2','v_cA1','v_cD1']\n",
    "\n",
    "    h_data.columns = col_name_h\n",
    "    v_data.columns = col_name_v\n",
    "    \n",
    "    # merge(기본, H coffs , V coffs)\n",
    "    final = pd.concat([data,h_data,v_data],axis= 1)\n",
    "    final_value = final.rolling(5).mean().max()\n",
    "    return final_value"
   ]
  },
  {
   "cell_type": "code",
   "execution_count": 34,
   "metadata": {},
   "outputs": [
    {
     "name": "stderr",
     "output_type": "stream",
     "text": [
      "100%|██████████████████████████████████████████████████████████████████████████████| 2374/2374 [31:26<00:00,  1.26it/s]\n",
      "  0%|                                                                                         | 0/1664 [00:00<?, ?it/s]"
     ]
    },
    {
     "name": "stdout",
     "output_type": "stream",
     "text": [
      "     H     M     S        MS   Horiz    Vert     h_cA5     h_cD5     h_cA4  \\\n",
      "0  8.0  33.0   1.0  475584.0  1.1060  0.4304  1.173360  1.613077  1.549534   \n",
      "1  8.0  33.0  11.0  475584.0  0.7696  0.3232  1.303490  1.406551  1.358121   \n",
      "2  8.0  33.0  21.0  475584.0  0.9492  0.3980  1.098965  1.196626  1.356523   \n",
      "3  8.0  33.0  31.0  475584.0  0.6804  0.4240  1.399907  1.542751  1.531483   \n",
      "4  8.0  33.0  41.0  475584.0  0.8226  0.3318  1.170126  1.673959  1.414938   \n",
      "\n",
      "      h_cD4  ...     v_cA5     v_cD5     v_cA4     v_cD4     v_cA3     v_cD3  \\\n",
      "0  2.822171  ...  0.796336  0.416683  0.766762  0.484787  0.785301  0.567621   \n",
      "1  1.878046  ...  0.774313  0.415722  0.726580  0.503060  0.654779  0.655930   \n",
      "2  1.842371  ...  0.668708  0.435307  0.626037  0.555270  0.533835  0.603687   \n",
      "3  1.338737  ...  0.702171  0.453670  0.597321  0.454479  0.618643  0.621314   \n",
      "4  1.884809  ...  0.542962  0.363837  0.494145  0.527419  0.484552  0.603774   \n",
      "\n",
      "      v_cA2     v_cD2     v_cA1     v_cD1  \n",
      "0  0.705671  0.320156  0.539543  0.196337  \n",
      "1  0.566890  0.359853  0.475183  0.194002  \n",
      "2  0.581082  0.309024  0.476499  0.189658  \n",
      "3  0.642816  0.274763  0.507212  0.193365  \n",
      "4  0.483757  0.393420  0.457769  0.164113  \n",
      "\n",
      "[5 rows x 26 columns]\n",
      "=================Bearing1_3 DONE ================\n"
     ]
    },
    {
     "name": "stderr",
     "output_type": "stream",
     "text": [
      "100%|██████████████████████████████████████████████████████████████████████████████| 1664/1664 [20:27<00:00,  1.36it/s]\n",
      "  0%|                                                                                         | 0/2872 [00:00<?, ?it/s]"
     ]
    },
    {
     "name": "stdout",
     "output_type": "stream",
     "text": [
      "     H    M     S        MS   Horiz    Vert     h_cA5     h_cD5     h_cA4  \\\n",
      "0  8.0  8.0   0.0  522460.0  0.6080  0.4874  0.795731  0.675280  0.737573   \n",
      "1  8.0  8.0  10.0  522460.0  0.7300  0.4318  0.787722  0.852297  0.776171   \n",
      "2  8.0  8.0  20.0  522460.0  0.5962  0.5580  0.997018  0.550837  0.820731   \n",
      "3  8.0  8.0  30.0  522460.0  0.6996  0.4856  1.283305  1.214784  1.588035   \n",
      "4  8.0  8.0  40.0  522460.0  0.5322  0.5116  1.278861  0.679043  1.147172   \n",
      "\n",
      "      h_cD4  ...     v_cA5     v_cD5     v_cA4     v_cD4     v_cA3     v_cD3  \\\n",
      "0  1.187298  ...  0.471559  0.352723  0.441771  0.516367  0.605818  0.807877   \n",
      "1  1.263581  ...  0.507723  0.278481  0.410693  0.477432  0.544140  0.849437   \n",
      "2  1.039189  ...  0.322719  0.277308  0.264363  0.532349  0.355448  0.858072   \n",
      "3  1.722120  ...  0.470807  0.291700  0.437580  0.599185  0.461942  1.156861   \n",
      "4  1.347487  ...  0.435501  0.276721  0.364184  0.577051  0.577939  0.917107   \n",
      "\n",
      "      v_cA2     v_cD2     v_cA1     v_cD1  \n",
      "0  0.650030  0.574134  0.525590  0.298503  \n",
      "1  0.633451  0.421472  0.513979  0.383817  \n",
      "2  0.646594  0.458815  0.563819  0.369974  \n",
      "3  0.797882  0.526512  0.658828  0.260577  \n",
      "4  0.717188  0.474023  0.590683  0.335952  \n",
      "\n",
      "[5 rows x 26 columns]\n",
      "=================Bearing1_4 DONE ================\n"
     ]
    },
    {
     "name": "stderr",
     "output_type": "stream",
     "text": [
      "100%|██████████████████████████████████████████████████████████████████████████████| 2872/2872 [34:14<00:00,  1.40it/s]\n",
      "  0%|                                                                                         | 0/2855 [00:00<?, ?it/s]"
     ]
    },
    {
     "name": "stdout",
     "output_type": "stream",
     "text": [
      "     H     M     S        MS   Horiz    Vert     h_cA5     h_cD5     h_cA4  \\\n",
      "0  9.0  20.0  24.0  309960.0  0.6034  0.5104  1.062959  0.870660  1.061356   \n",
      "1  9.0  20.0  34.0  309960.0  0.8858  0.4050  1.247606  1.002255  1.434590   \n",
      "2  9.0  20.0  44.0  309960.0  0.7292  0.3886  1.617475  0.704881  1.208190   \n",
      "3  9.0  20.0  54.0  309960.0  0.6250  0.4844  1.406676  0.876834  1.363014   \n",
      "4  9.0  21.0   4.0  309960.0  0.7382  0.5050  1.154624  0.833339  1.241148   \n",
      "\n",
      "      h_cD4  ...     v_cA5     v_cD5     v_cA4     v_cD4     v_cA3     v_cD3  \\\n",
      "0  1.852083  ...  0.726125  0.364067  0.509104  0.610876  0.545989  0.685209   \n",
      "1  2.397224  ...  0.660790  0.346711  0.500587  0.825957  0.636623  0.832671   \n",
      "2  2.060269  ...  0.766325  0.429864  0.652439  0.749798  0.696363  0.667279   \n",
      "3  1.885774  ...  0.790673  0.334038  0.632257  0.651610  0.855768  0.737271   \n",
      "4  2.075746  ...  0.872401  0.318821  0.654147  0.989365  0.828870  0.662593   \n",
      "\n",
      "      v_cA2     v_cD2     v_cA1     v_cD1  \n",
      "0  0.766961  0.371039  0.661055  0.182296  \n",
      "1  0.707771  0.457696  0.589419  0.196309  \n",
      "2  0.739208  0.450031  0.583591  0.204958  \n",
      "3  0.755860  0.384872  0.650734  0.183294  \n",
      "4  0.755681  0.450746  0.675755  0.250266  \n",
      "\n",
      "[5 rows x 26 columns]\n",
      "=================Bearing1_5 DONE ================\n"
     ]
    },
    {
     "name": "stderr",
     "output_type": "stream",
     "text": [
      "100%|██████████████████████████████████████████████████████████████████████████████| 2855/2855 [34:17<00:00,  1.39it/s]\n",
      "  0%|                                                                                         | 0/2634 [00:00<?, ?it/s]"
     ]
    },
    {
     "name": "stdout",
     "output_type": "stream",
     "text": [
      "     H    M     S        MS   Horiz    Vert     h_cA5     h_cD5     h_cA4  \\\n",
      "0  9.0  2.0  51.0  872460.0  1.7570  0.6148  1.047094  1.110119  0.914176   \n",
      "1  9.0  3.0   1.0  872460.0  0.9352  0.4990  1.362085  0.824653  1.192278   \n",
      "2  9.0  3.0  11.0  872460.0  1.6800  0.7210  1.353183  0.998481  1.140882   \n",
      "3  9.0  3.0  21.0  872460.0  1.2794  0.6200  1.305437  0.725522  1.106518   \n",
      "4  9.0  3.0  31.0  872460.0  1.1552  0.6760  1.417419  0.931921  1.076537   \n",
      "\n",
      "      h_cD4  ...     v_cA5     v_cD5     v_cA4     v_cD4     v_cA3     v_cD3  \\\n",
      "0  4.190732  ...  0.831904  0.395387  0.766713  1.078584  0.930767  1.279871   \n",
      "1  2.334409  ...  0.655586  0.405886  0.476093  1.494711  1.047561  0.910218   \n",
      "2  4.212364  ...  0.691521  0.442284  0.638100  1.403273  1.223246  1.475895   \n",
      "3  3.802511  ...  1.040492  0.478147  0.782484  1.240836  1.112260  0.852619   \n",
      "4  3.592296  ...  0.833441  0.464551  0.685701  0.815597  0.889929  1.134969   \n",
      "\n",
      "      v_cA2     v_cD2     v_cA1     v_cD1  \n",
      "0  1.134501  0.497370  0.850705  0.229496  \n",
      "1  0.948647  0.481971  0.715924  0.276988  \n",
      "2  1.279407  0.610807  1.050316  0.281025  \n",
      "3  1.053314  0.490974  0.774454  0.255864  \n",
      "4  1.191307  0.599778  0.932821  0.261383  \n",
      "\n",
      "[5 rows x 26 columns]\n",
      "=================Bearing1_6 DONE ================\n"
     ]
    },
    {
     "name": "stderr",
     "output_type": "stream",
     "text": [
      "100%|██████████████████████████████████████████████████████████████████████████████| 2634/2634 [31:57<00:00,  1.37it/s]\n",
      "  0%|                                                                                         | 0/1954 [00:00<?, ?it/s]"
     ]
    },
    {
     "name": "stdout",
     "output_type": "stream",
     "text": [
      "     H    M     S        MS   Horiz    Vert     h_cA5     h_cD5     h_cA4  \\\n",
      "0  8.0  2.0  38.0  999920.0  1.5166  0.5690  2.344129  1.866684  2.144505   \n",
      "1  8.0  2.0  48.0  999920.0  0.7910  0.4984  1.798578  1.803820  1.659189   \n",
      "2  8.0  2.0  58.0  999920.0  1.1444  0.6362  2.452369  2.005998  2.818803   \n",
      "3  8.0  3.0   8.0  999920.0  0.8342  0.5472  2.298571  1.610119  2.281982   \n",
      "4  8.0  3.0  18.0  999920.0  1.1810  0.5678  2.262900  1.831019  2.596430   \n",
      "\n",
      "      h_cD4  ...     v_cA5     v_cD5     v_cA4     v_cD4     v_cA3     v_cD3  \\\n",
      "0  3.400599  ...  0.820073  0.451136  0.656898  0.932985  0.929248  0.894772   \n",
      "1  1.950510  ...  0.731407  0.464831  0.619645  1.033166  0.749272  0.843199   \n",
      "2  2.633838  ...  0.712733  0.657133  0.682801  0.857692  0.690588  1.208682   \n",
      "3  2.130629  ...  0.965104  0.454301  0.823369  0.714883  0.785485  0.961013   \n",
      "4  1.618358  ...  0.895056  0.590839  0.723848  1.065224  0.936536  1.012049   \n",
      "\n",
      "      v_cA2     v_cD2     v_cA1     v_cD1  \n",
      "0  1.013251  0.479745  0.702417  0.247670  \n",
      "1  0.848587  0.466403  0.690625  0.207963  \n",
      "2  1.024577  0.560841  0.836804  0.215211  \n",
      "3  0.887366  0.498124  0.703818  0.211123  \n",
      "4  0.819557  0.503151  0.700588  0.217774  \n",
      "\n",
      "[5 rows x 26 columns]\n",
      "=================Bearing1_7 DONE ================\n"
     ]
    },
    {
     "name": "stderr",
     "output_type": "stream",
     "text": [
      "100%|██████████████████████████████████████████████████████████████████████████████| 1954/1954 [26:21<00:00,  1.24it/s]\n",
      "  0%|                                                                                          | 0/875 [00:00<?, ?it/s]"
     ]
    },
    {
     "name": "stdout",
     "output_type": "stream",
     "text": [
      "     H     M     S        MS   Horiz    Vert     h_cA5     h_cD5     h_cA4  \\\n",
      "0  8.0  39.0  57.0  669336.0  0.9184  0.4350  1.849338  2.321660  2.631825   \n",
      "1  8.0  40.0   7.0  669336.0  1.3956  0.3710  2.953996  3.282134  3.577657   \n",
      "2  8.0  40.0  17.0  669336.0  1.0050  0.3902  1.950156  2.697391  2.738707   \n",
      "3  8.0  40.0  27.0  669336.0  0.8336  0.3802  1.564616  1.073530  1.317981   \n",
      "4  8.0  40.0  37.0  669336.0  0.8108  0.4534  1.743622  1.249418  1.870207   \n",
      "\n",
      "      h_cD4  ...     v_cA5     v_cD5     v_cA4     v_cD4     v_cA3     v_cD3  \\\n",
      "0  3.603610  ...  0.621556  0.432373  0.533732  0.668565  0.796897  0.577157   \n",
      "1  6.189089  ...  0.538103  0.354003  0.497272  0.579220  0.663764  0.623279   \n",
      "2  4.955341  ...  0.518442  0.363053  0.428784  0.567270  0.619740  0.642229   \n",
      "3  2.372240  ...  0.643799  0.368642  0.589556  0.588770  0.577096  0.484888   \n",
      "4  1.455055  ...  0.542405  0.444588  0.485655  0.669306  0.535370  0.665917   \n",
      "\n",
      "      v_cA2     v_cD2     v_cA1     v_cD1  \n",
      "0  0.793781  0.295389  0.615520  0.109625  \n",
      "1  0.599308  0.307820  0.476970  0.123943  \n",
      "2  0.589514  0.328000  0.517076  0.108385  \n",
      "3  0.640468  0.282593  0.497660  0.109798  \n",
      "4  0.669490  0.423490  0.609864  0.110520  \n",
      "\n",
      "[5 rows x 26 columns]\n",
      "=================Bearing2_3 DONE ================\n"
     ]
    },
    {
     "name": "stderr",
     "output_type": "stream",
     "text": [
      "100%|████████████████████████████████████████████████████████████████████████████████| 875/875 [10:26<00:00,  1.40it/s]\n",
      "  0%|                                                                                         | 0/2696 [00:00<?, ?it/s]"
     ]
    },
    {
     "name": "stdout",
     "output_type": "stream",
     "text": [
      "     H    M     S        MS   Horiz    Vert     h_cA5     h_cD5     h_cA4  \\\n",
      "0  8.0  3.0  36.0  559960.0  0.7042  0.3102  0.984597  0.737990  0.921197   \n",
      "1  8.0  3.0  46.0  559960.0  0.7208  0.2996  0.858875  0.826821  1.087336   \n",
      "2  8.0  3.0  56.0  559960.0  0.8352  0.4306  0.887186  0.858857  0.905362   \n",
      "3  8.0  4.0   6.0  559960.0  0.5478  0.3308  0.774826  0.815716  0.817696   \n",
      "4  8.0  4.0  16.0  559960.0  0.6494  0.3788  0.966487  0.743532  0.764653   \n",
      "\n",
      "      h_cD4  ...     v_cA5     v_cD5     v_cA4     v_cD4     v_cA3     v_cD3  \\\n",
      "0  1.526032  ...  0.466774  0.226050  0.392384  0.513805  0.479815  0.541525   \n",
      "1  1.601476  ...  0.424013  0.205204  0.340039  0.472698  0.452269  0.569378   \n",
      "2  1.736573  ...  0.496403  0.196901  0.436052  0.637544  0.534256  0.666104   \n",
      "3  1.103955  ...  0.482698  0.248833  0.343705  0.602560  0.384917  0.595756   \n",
      "4  1.809069  ...  0.433722  0.291122  0.369396  0.558061  0.500156  0.683521   \n",
      "\n",
      "      v_cA2     v_cD2     v_cA1     v_cD1  \n",
      "0  0.523588  0.339141  0.404669  0.121295  \n",
      "1  0.472642  0.294894  0.395010  0.150275  \n",
      "2  0.768546  0.280469  0.586072  0.126059  \n",
      "3  0.523440  0.305567  0.440158  0.124843  \n",
      "4  0.624837  0.425701  0.484158  0.158214  \n",
      "\n",
      "[5 rows x 26 columns]\n",
      "=================Bearing2_4 DONE ================\n"
     ]
    },
    {
     "name": "stderr",
     "output_type": "stream",
     "text": [
      " 86%|██████████████████████████████████████████████████████████████████▊           | 2311/2696 [30:43<05:07,  1.25it/s]\n"
     ]
    },
    {
     "ename": "ValueError",
     "evalue": "Data must have non-zero size",
     "output_type": "error",
     "traceback": [
      "\u001b[1;31m---------------------------------------------------------------------------\u001b[0m",
      "\u001b[1;31mValueError\u001b[0m                                Traceback (most recent call last)",
      "\u001b[1;32m<ipython-input-34-7c152bc24c26>\u001b[0m in \u001b[0;36m<module>\u001b[1;34m\u001b[0m\n\u001b[0;32m     57\u001b[0m     \u001b[1;32mfor\u001b[0m \u001b[0mfile\u001b[0m \u001b[1;32min\u001b[0m \u001b[0mfile2\u001b[0m\u001b[1;33m:\u001b[0m\u001b[1;33m\u001b[0m\u001b[1;33m\u001b[0m\u001b[0m\n\u001b[0;32m     58\u001b[0m         \u001b[0mpath2\u001b[0m \u001b[1;33m=\u001b[0m \u001b[0mpath_dir\u001b[0m\u001b[1;33m+\u001b[0m\u001b[1;34m'/'\u001b[0m\u001b[1;33m+\u001b[0m\u001b[0mfile\u001b[0m\u001b[1;33m\u001b[0m\u001b[1;33m\u001b[0m\u001b[0m\n\u001b[1;32m---> 59\u001b[1;33m         \u001b[0mtem_fft\u001b[0m \u001b[1;33m=\u001b[0m \u001b[0mread_data\u001b[0m\u001b[1;33m(\u001b[0m\u001b[0mpath2\u001b[0m\u001b[1;33m)\u001b[0m\u001b[1;33m\u001b[0m\u001b[1;33m\u001b[0m\u001b[0m\n\u001b[0m\u001b[0;32m     60\u001b[0m         \u001b[0mfft_data\u001b[0m \u001b[1;33m=\u001b[0m \u001b[0mpd\u001b[0m\u001b[1;33m.\u001b[0m\u001b[0mDataFrame\u001b[0m\u001b[1;33m(\u001b[0m\u001b[0mtem_fft\u001b[0m\u001b[1;33m)\u001b[0m\u001b[1;33m\u001b[0m\u001b[1;33m\u001b[0m\u001b[0m\n\u001b[0;32m     61\u001b[0m \u001b[1;33m\u001b[0m\u001b[0m\n",
      "\u001b[1;32m<ipython-input-34-7c152bc24c26>\u001b[0m in \u001b[0;36mread_data\u001b[1;34m(path)\u001b[0m\n\u001b[0;32m     36\u001b[0m             \u001b[1;31m# Changing function depending on purpose\u001b[0m\u001b[1;33m\u001b[0m\u001b[1;33m\u001b[0m\u001b[1;33m\u001b[0m\u001b[0m\n\u001b[0;32m     37\u001b[0m             \u001b[1;31m#five_point_results = five_points(tem2)\u001b[0m\u001b[1;33m\u001b[0m\u001b[1;33m\u001b[0m\u001b[1;33m\u001b[0m\u001b[0m\n\u001b[1;32m---> 38\u001b[1;33m             \u001b[0mfive_point_results\u001b[0m \u001b[1;33m=\u001b[0m \u001b[0mdwt\u001b[0m\u001b[1;33m(\u001b[0m\u001b[0mtem2\u001b[0m\u001b[1;33m)\u001b[0m\u001b[1;33m\u001b[0m\u001b[1;33m\u001b[0m\u001b[0m\n\u001b[0m\u001b[0;32m     39\u001b[0m             \u001b[0mtotal_list\u001b[0m\u001b[1;33m.\u001b[0m\u001b[0mappend\u001b[0m\u001b[1;33m(\u001b[0m\u001b[0mfive_point_results\u001b[0m\u001b[1;33m)\u001b[0m\u001b[1;33m\u001b[0m\u001b[1;33m\u001b[0m\u001b[0m\n\u001b[0;32m     40\u001b[0m \u001b[1;33m\u001b[0m\u001b[0m\n",
      "\u001b[1;32m<ipython-input-30-a6baa439d6f9>\u001b[0m in \u001b[0;36mdwt\u001b[1;34m(data)\u001b[0m\n\u001b[0;32m      6\u001b[0m     \u001b[0my_verti\u001b[0m \u001b[1;33m=\u001b[0m \u001b[0mdata\u001b[0m\u001b[1;33m[\u001b[0m\u001b[1;34m'Vert'\u001b[0m\u001b[1;33m]\u001b[0m\u001b[1;33m\u001b[0m\u001b[1;33m\u001b[0m\u001b[0m\n\u001b[0;32m      7\u001b[0m \u001b[1;33m\u001b[0m\u001b[0m\n\u001b[1;32m----> 8\u001b[1;33m     \u001b[0mh_coff\u001b[0m \u001b[1;33m=\u001b[0m \u001b[0mpywt\u001b[0m\u001b[1;33m.\u001b[0m\u001b[0mswt\u001b[0m\u001b[1;33m(\u001b[0m\u001b[0mlist\u001b[0m\u001b[1;33m(\u001b[0m\u001b[0my_hori\u001b[0m\u001b[1;33m)\u001b[0m\u001b[1;33m,\u001b[0m \u001b[1;34m'db4'\u001b[0m\u001b[1;33m,\u001b[0m\u001b[0mlevel\u001b[0m\u001b[1;33m=\u001b[0m\u001b[1;36m5\u001b[0m\u001b[1;33m,\u001b[0m\u001b[0maxis\u001b[0m\u001b[1;33m=\u001b[0m\u001b[1;36m0\u001b[0m\u001b[1;33m)\u001b[0m\u001b[1;33m\u001b[0m\u001b[1;33m\u001b[0m\u001b[0m\n\u001b[0m\u001b[0;32m      9\u001b[0m     \u001b[0mv_coff\u001b[0m \u001b[1;33m=\u001b[0m \u001b[0mpywt\u001b[0m\u001b[1;33m.\u001b[0m\u001b[0mswt\u001b[0m\u001b[1;33m(\u001b[0m\u001b[0mlist\u001b[0m\u001b[1;33m(\u001b[0m\u001b[0my_verti\u001b[0m\u001b[1;33m)\u001b[0m\u001b[1;33m,\u001b[0m \u001b[1;34m'db4'\u001b[0m\u001b[1;33m,\u001b[0m\u001b[0mlevel\u001b[0m\u001b[1;33m=\u001b[0m\u001b[1;36m5\u001b[0m\u001b[1;33m,\u001b[0m\u001b[0maxis\u001b[0m \u001b[1;33m=\u001b[0m \u001b[1;36m0\u001b[0m\u001b[1;33m)\u001b[0m\u001b[1;33m\u001b[0m\u001b[1;33m\u001b[0m\u001b[0m\n\u001b[0;32m     10\u001b[0m \u001b[1;33m\u001b[0m\u001b[0m\n",
      "\u001b[1;32m~\\anaconda3\\lib\\site-packages\\pywt\\_swt.py\u001b[0m in \u001b[0;36mswt\u001b[1;34m(data, wavelet, level, start_level, axis, trim_approx, norm)\u001b[0m\n\u001b[0;32m    145\u001b[0m \u001b[1;33m\u001b[0m\u001b[0m\n\u001b[0;32m    146\u001b[0m     \u001b[1;32mif\u001b[0m \u001b[0mdata\u001b[0m\u001b[1;33m.\u001b[0m\u001b[0mndim\u001b[0m \u001b[1;33m==\u001b[0m \u001b[1;36m1\u001b[0m\u001b[1;33m:\u001b[0m\u001b[1;33m\u001b[0m\u001b[1;33m\u001b[0m\u001b[0m\n\u001b[1;32m--> 147\u001b[1;33m         \u001b[0mret\u001b[0m \u001b[1;33m=\u001b[0m \u001b[0m_swt\u001b[0m\u001b[1;33m(\u001b[0m\u001b[0mdata\u001b[0m\u001b[1;33m,\u001b[0m \u001b[0mwavelet\u001b[0m\u001b[1;33m,\u001b[0m \u001b[0mlevel\u001b[0m\u001b[1;33m,\u001b[0m \u001b[0mstart_level\u001b[0m\u001b[1;33m,\u001b[0m \u001b[0mtrim_approx\u001b[0m\u001b[1;33m)\u001b[0m\u001b[1;33m\u001b[0m\u001b[1;33m\u001b[0m\u001b[0m\n\u001b[0m\u001b[0;32m    148\u001b[0m     \u001b[1;32melse\u001b[0m\u001b[1;33m:\u001b[0m\u001b[1;33m\u001b[0m\u001b[1;33m\u001b[0m\u001b[0m\n\u001b[0;32m    149\u001b[0m         \u001b[0mret\u001b[0m \u001b[1;33m=\u001b[0m \u001b[0m_swt_axis\u001b[0m\u001b[1;33m(\u001b[0m\u001b[0mdata\u001b[0m\u001b[1;33m,\u001b[0m \u001b[0mwavelet\u001b[0m\u001b[1;33m,\u001b[0m \u001b[0mlevel\u001b[0m\u001b[1;33m,\u001b[0m \u001b[0mstart_level\u001b[0m\u001b[1;33m,\u001b[0m \u001b[0maxis\u001b[0m\u001b[1;33m,\u001b[0m \u001b[0mtrim_approx\u001b[0m\u001b[1;33m)\u001b[0m\u001b[1;33m\u001b[0m\u001b[1;33m\u001b[0m\u001b[0m\n",
      "\u001b[1;32mpywt\\_extensions\\_swt.pyx\u001b[0m in \u001b[0;36mpywt._extensions._swt.swt\u001b[1;34m()\u001b[0m\n",
      "\u001b[1;31mValueError\u001b[0m: Data must have non-zero size"
     ]
    }
   ],
   "source": [
    "#getting # five highest points\n",
    "def fix_file(df):\n",
    "    df = pd.Series(df[df.columns[0]])\n",
    "    #데이터 형식이 안맞는 경우 \n",
    "    fixed = pd.DataFrame()\n",
    "    fixed['H'] = df.str.split(';').str[0]\n",
    "    fixed['M'] = df.str.split(';').str[1]\n",
    "    fixed['S'] = df.str.split(';').str[2]\n",
    "    fixed['MS'] = df.str.split(';').str[3]\n",
    "    fixed['Horiz'] = df.str.split(';').str[4]\n",
    "    fixed['Vert'] = df.str.split(';').str[5]\n",
    "    return fixed\n",
    "\n",
    "\n",
    "def read_data(path):\n",
    "    file_list = os.listdir(path)\n",
    "    total_list = []\n",
    "    for i in tqdm.tqdm(range(len(file_list[:-1]))):\n",
    "        \n",
    "        tem = pd.read_csv(path+'/'+file_list[i])\n",
    "        if len(tem.columns) == 6:\n",
    "            tem.columns = ['H','M','S','MS','Horiz','Vert']\n",
    "            \n",
    "            # Changing function depending on purpose\n",
    "            #five_point_results = five_points(tem)\n",
    "            \n",
    "            five_point_results = dwt(tem)\n",
    "            total_list.append(five_point_results)\n",
    "            \n",
    "            \n",
    "        if len(tem.columns) == 1:\n",
    "            tem2 = fix_file(tem)\n",
    "            tem2.columns = ['H','M','S','MS','Horiz','Vert']\n",
    "            \n",
    "            \n",
    "            # Changing function depending on purpose\n",
    "            #five_point_results = five_points(tem2)\n",
    "            five_point_results = dwt(tem2)\n",
    "            total_list.append(five_point_results)        \n",
    "            \n",
    "        else:\n",
    "            continue\n",
    "            \n",
    "    return total_list \n",
    "\n",
    "\n",
    "\n",
    "files = os.listdir(abspath)\n",
    "files\n",
    "\n",
    "\n",
    "# TEST/LEARNING (파일명)\n",
    "for get_file in files[2:-1]:\n",
    "    path_dir = abspath+\"/\"+get_file\n",
    "    file2 = os.listdir(path_dir)\n",
    "    # Bearing file 접근\n",
    "    for file in file2:\n",
    "        path2 = path_dir+'/'+file\n",
    "        tem_fft = read_data(path2)\n",
    "        fft_data = pd.DataFrame(tem_fft)\n",
    "        \n",
    "        # CSV 저장        \n",
    "        fft_data.to_csv(abspath+'/dwt/'+file+\"_dwt.csv\",index=False)\n",
    "\n",
    "        # PLOT 결과 저장\n",
    "        plt.title(file+\"top5\")\n",
    "        plt.xlabel(\"Observation #\")\n",
    "        plt.ylabel(\"Feature (g)\")\n",
    "        print(fft_data.head())\n",
    "        plt.plot(fft_data['Horiz'],label='Horizontal')\n",
    "        plt.plot(fft_data['Vert'],label='Vertical')\n",
    "\n",
    "        #plt.scatter(range(len(fft_data)),fft_data['hori'],cmap='Greens',edgecolors='red',linewidth=2,s=10,label='Horizontal')\n",
    "        #plt.scatter(range(len(fft_data)),fft_data['verti'],cmap='Greens',edgecolors='blue',linewidth=2,s=10,label='Vertical')\n",
    "        plt.legend(loc = 'upper right')\n",
    "        plt.savefig(abspath+'/dwt/'+file+'_top5.png')        \n",
    "        plt.close()\n",
    "        print(\"=================\"+file+\" DONE ================\")\n",
    "        \n",
    "        #plt.show()\n",
    "        #tem.to_csv('/'+ get_file+'/'+file+\".csv\",index= False)    \n"
   ]
  },
  {
   "cell_type": "code",
   "execution_count": null,
   "metadata": {},
   "outputs": [],
   "source": []
  },
  {
   "cell_type": "code",
   "execution_count": null,
   "metadata": {},
   "outputs": [],
   "source": []
  }
 ],
 "metadata": {
  "kernelspec": {
   "display_name": "Python 3",
   "language": "python",
   "name": "python3"
  },
  "language_info": {
   "codemirror_mode": {
    "name": "ipython",
    "version": 3
   },
   "file_extension": ".py",
   "mimetype": "text/x-python",
   "name": "python",
   "nbconvert_exporter": "python",
   "pygments_lexer": "ipython3",
   "version": "3.8.5"
  }
 },
 "nbformat": 4,
 "nbformat_minor": 4
}
